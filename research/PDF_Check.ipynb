{
 "cells": [
  {
   "cell_type": "markdown",
   "metadata": {},
   "source": [
    "# Задачи на проверку, возможно ли определить читаемость pdf"
   ]
  },
  {
   "cell_type": "markdown",
   "metadata": {},
   "source": [
    "### Импорты"
   ]
  },
  {
   "cell_type": "code",
   "execution_count": 61,
   "metadata": {},
   "outputs": [
    {
     "name": "stdout",
     "output_type": "stream",
     "text": [
      "INFO: Pandarallel will run on 6 workers.\n",
      "INFO: Pandarallel will use standard multiprocessing data transfer (pipe) to transfer data between the main process and workers.\n",
      "\n",
      "WARNING: You are on Windows. If you detect any issue with pandarallel, be sure you checked out the Troubleshooting page:\n",
      "https://nalepae.github.io/pandarallel/troubleshooting/\n"
     ]
    }
   ],
   "source": [
    "import os\n",
    "\n",
    "import pandas as pd\n",
    "import matplotlib.pyplot as plt\n",
    "import seaborn as sns\n",
    "\n",
    "from supabase import create_client, Client\n",
    "from dotenv import load_dotenv\n",
    "\n",
    "import PyPDF2\n",
    "from pdfminer.high_level import extract_pages, extract_text\n",
    "from pdfminer.layout import LTTextContainer, LTChar, LTRect, LTFigure\n",
    "from PIL import Image\n",
    "from pdf2image import convert_from_path\n",
    "\n",
    "from pandarallel import pandarallel\n",
    "pandarallel.initialize(progress_bar=True)"
   ]
  },
  {
   "cell_type": "markdown",
   "metadata": {},
   "source": [
    "### SNS settings"
   ]
  },
  {
   "cell_type": "code",
   "execution_count": 2,
   "metadata": {},
   "outputs": [],
   "source": [
    "sns.set(style=\"whitegrid\")\n",
    "sns.set_palette(\"pastel\")"
   ]
  },
  {
   "cell_type": "markdown",
   "metadata": {},
   "source": [
    "### Supabase settings"
   ]
  },
  {
   "cell_type": "code",
   "execution_count": 62,
   "metadata": {},
   "outputs": [],
   "source": [
    "load_dotenv()\n",
    "\n",
    "url: str = os.environ.get(\"SUPABASE_URL\")\n",
    "key: str = os.environ.get(\"SUPABASE_KEY\")\n",
    "supabase: Client = create_client(url, key)"
   ]
  },
  {
   "cell_type": "markdown",
   "metadata": {},
   "source": [
    "### Считываем пути для данных"
   ]
  },
  {
   "cell_type": "code",
   "execution_count": 50,
   "metadata": {},
   "outputs": [],
   "source": [
    "df = pd.DataFrame(columns=[\"Readable_books\"])\n",
    "Readable_books_paths = []\n",
    "# Add books paths to df from Readable folder\n",
    "for root, dirs, files in os.walk(\"./data/readable\"):\n",
    "    for file in files:\n",
    "        if file.endswith(\".pdf\"):\n",
    "            Readable_books_paths.append(os.path.join(root, file))\n",
    "\n",
    "# Add paths to df\n",
    "df[\"Readable_books\"] = Readable_books_paths"
   ]
  },
  {
   "cell_type": "code",
   "execution_count": 51,
   "metadata": {},
   "outputs": [
    {
     "data": {
      "text/html": [
       "<div>\n",
       "<style scoped>\n",
       "    .dataframe tbody tr th:only-of-type {\n",
       "        vertical-align: middle;\n",
       "    }\n",
       "\n",
       "    .dataframe tbody tr th {\n",
       "        vertical-align: top;\n",
       "    }\n",
       "\n",
       "    .dataframe thead th {\n",
       "        text-align: right;\n",
       "    }\n",
       "</style>\n",
       "<table border=\"1\" class=\"dataframe\">\n",
       "  <thead>\n",
       "    <tr style=\"text-align: right;\">\n",
       "      <th></th>\n",
       "      <th>Readable_books</th>\n",
       "    </tr>\n",
       "  </thead>\n",
       "  <tbody>\n",
       "    <tr>\n",
       "      <th>0</th>\n",
       "      <td>./data/readable\\OOP_s_pom_ Python.pdf</td>\n",
       "    </tr>\n",
       "    <tr>\n",
       "      <th>1</th>\n",
       "      <td>./data/readable\\PyCharm_Профессиональная_работ...</td>\n",
       "    </tr>\n",
       "    <tr>\n",
       "      <th>2</th>\n",
       "      <td>./data/readable\\PyCharm_Профессиональная_работ...</td>\n",
       "    </tr>\n",
       "    <tr>\n",
       "      <th>3</th>\n",
       "      <td>./data/readable\\Python 3. Самое необходимое. 2...</td>\n",
       "    </tr>\n",
       "    <tr>\n",
       "      <th>4</th>\n",
       "      <td>./data/readable\\Python. Наиболее полное руково...</td>\n",
       "    </tr>\n",
       "  </tbody>\n",
       "</table>\n",
       "</div>"
      ],
      "text/plain": [
       "                                      Readable_books\n",
       "0              ./data/readable\\OOP_s_pom_ Python.pdf\n",
       "1  ./data/readable\\PyCharm_Профессиональная_работ...\n",
       "2  ./data/readable\\PyCharm_Профессиональная_работ...\n",
       "3  ./data/readable\\Python 3. Самое необходимое. 2...\n",
       "4  ./data/readable\\Python. Наиболее полное руково..."
      ]
     },
     "execution_count": 51,
     "metadata": {},
     "output_type": "execute_result"
    }
   ],
   "source": [
    "df.head()"
   ]
  },
  {
   "cell_type": "markdown",
   "metadata": {},
   "source": [
    "### Получить текст из PDF"
   ]
  },
  {
   "cell_type": "code",
   "execution_count": 52,
   "metadata": {},
   "outputs": [],
   "source": [
    "def extract_text_from_pdf(pdf_path):\n",
    "    from pdfminer.high_level import extract_pages\n",
    "    from pdfminer.layout import LTTextContainer\n",
    "    text = []\n",
    "    for page_layout in extract_pages(pdf_path):\n",
    "        for element in page_layout:\n",
    "            if isinstance(element, LTTextContainer):\n",
    "                text.append(element.get_text())\n",
    "    return text"
   ]
  },
  {
   "cell_type": "code",
   "execution_count": 53,
   "metadata": {},
   "outputs": [
    {
     "data": {
      "application/vnd.jupyter.widget-view+json": {
       "model_id": "2f7db1e69e014b31a7044b7cc5c996af",
       "version_major": 2,
       "version_minor": 0
      },
      "text/plain": [
       "VBox(children=(HBox(children=(IntProgress(value=0, description='0.00%', max=4), Label(value='0 / 4'))), HBox(c…"
      ]
     },
     "metadata": {},
     "output_type": "display_data"
    }
   ],
   "source": [
    "df[\"text\"] = df[\"Readable_books\"].parallel_apply(extract_text_from_pdf)"
   ]
  },
  {
   "cell_type": "code",
   "execution_count": 55,
   "metadata": {},
   "outputs": [],
   "source": [
    "df.to_excel(\"books_text.xlsx\", index=False, engine='openpyxl')"
   ]
  },
  {
   "cell_type": "code",
   "execution_count": 34,
   "metadata": {},
   "outputs": [
    {
     "data": {
      "text/html": [
       "<div>\n",
       "<style scoped>\n",
       "    .dataframe tbody tr th:only-of-type {\n",
       "        vertical-align: middle;\n",
       "    }\n",
       "\n",
       "    .dataframe tbody tr th {\n",
       "        vertical-align: top;\n",
       "    }\n",
       "\n",
       "    .dataframe thead th {\n",
       "        text-align: right;\n",
       "    }\n",
       "</style>\n",
       "<table border=\"1\" class=\"dataframe\">\n",
       "  <thead>\n",
       "    <tr style=\"text-align: right;\">\n",
       "      <th></th>\n",
       "      <th>Readable_books</th>\n",
       "      <th>Unreadable_books</th>\n",
       "      <th>text</th>\n",
       "    </tr>\n",
       "  </thead>\n",
       "  <tbody>\n",
       "    <tr>\n",
       "      <th>0</th>\n",
       "      <td>./data/readable\\OOP_s_pom_ Python.pdf</td>\n",
       "      <td>./data/unreadable\\Язык программирования Python...</td>\n",
       "      <td>I R V   K A L B\\nOBJECT-ORIENTED \\nPYTHON\\nMAS...</td>\n",
       "    </tr>\n",
       "    <tr>\n",
       "      <th>1</th>\n",
       "      <td>./data/readable\\PyCharm_Профессиональная_работ...</td>\n",
       "      <td>None</td>\n",
       "      <td>Брюс М. Ван Хорн II\\nКуан Нгуен\\nPyCharm: \\nпр...</td>\n",
       "    </tr>\n",
       "    <tr>\n",
       "      <th>2</th>\n",
       "      <td>./data/readable\\PyCharm_Профессиональная_работ...</td>\n",
       "      <td>None</td>\n",
       "      <td>Брюс М. Ван Хорн II\\nКуан Нгуен\\nPyCharm: \\nпр...</td>\n",
       "    </tr>\n",
       "    <tr>\n",
       "      <th>3</th>\n",
       "      <td>./data/readable\\Python 3. Самое необходимое. 2...</td>\n",
       "      <td>None</td>\n",
       "      <td>4\\nОглавление\\n4.4. Функции rangeO и enumerate...</td>\n",
       "    </tr>\n",
       "    <tr>\n",
       "      <th>4</th>\n",
       "      <td>./data/readable\\Python. Наиболее полное руково...</td>\n",
       "      <td>None</td>\n",
       "      <td>(cid:1)(cid:3)(cid:4)(cid:5)(cid:6)(cid:7)(cid...</td>\n",
       "    </tr>\n",
       "  </tbody>\n",
       "</table>\n",
       "</div>"
      ],
      "text/plain": [
       "                                      Readable_books  \\\n",
       "0              ./data/readable\\OOP_s_pom_ Python.pdf   \n",
       "1  ./data/readable\\PyCharm_Профессиональная_работ...   \n",
       "2  ./data/readable\\PyCharm_Профессиональная_работ...   \n",
       "3  ./data/readable\\Python 3. Самое необходимое. 2...   \n",
       "4  ./data/readable\\Python. Наиболее полное руково...   \n",
       "\n",
       "                                    Unreadable_books  \\\n",
       "0  ./data/unreadable\\Язык программирования Python...   \n",
       "1                                               None   \n",
       "2                                               None   \n",
       "3                                               None   \n",
       "4                                               None   \n",
       "\n",
       "                                                text  \n",
       "0  I R V   K A L B\\nOBJECT-ORIENTED \\nPYTHON\\nMAS...  \n",
       "1  Брюс М. Ван Хорн II\\nКуан Нгуен\\nPyCharm: \\nпр...  \n",
       "2  Брюс М. Ван Хорн II\\nКуан Нгуен\\nPyCharm: \\nпр...  \n",
       "3  4\\nОглавление\\n4.4. Функции rangeO и enumerate...  \n",
       "4  (cid:1)(cid:3)(cid:4)(cid:5)(cid:6)(cid:7)(cid...  "
      ]
     },
     "execution_count": 34,
     "metadata": {},
     "output_type": "execute_result"
    }
   ],
   "source": [
    "df.head()"
   ]
  },
  {
   "cell_type": "code",
   "execution_count": 67,
   "metadata": {},
   "outputs": [
    {
     "name": "stderr",
     "output_type": "stream",
     "text": [
      "2024-03-12 17:51:27,541:INFO - HTTP Request: POST https://kapxuliiifmyfljppsyp.supabase.co/rest/v1/books \"HTTP/1.1 201 Created\"\n",
      "2024-03-12 17:51:30,164:INFO - HTTP Request: POST https://kapxuliiifmyfljppsyp.supabase.co/rest/v1/books \"HTTP/1.1 201 Created\"\n",
      "2024-03-12 17:51:32,508:INFO - HTTP Request: POST https://kapxuliiifmyfljppsyp.supabase.co/rest/v1/books \"HTTP/1.1 201 Created\"\n",
      "2024-03-12 17:51:34,763:INFO - HTTP Request: POST https://kapxuliiifmyfljppsyp.supabase.co/rest/v1/books \"HTTP/1.1 201 Created\"\n",
      "2024-03-12 17:51:37,970:INFO - HTTP Request: POST https://kapxuliiifmyfljppsyp.supabase.co/rest/v1/books \"HTTP/1.1 201 Created\"\n",
      "2024-03-12 17:51:41,285:INFO - HTTP Request: POST https://kapxuliiifmyfljppsyp.supabase.co/rest/v1/books \"HTTP/1.1 201 Created\"\n",
      "2024-03-12 17:51:42,906:INFO - HTTP Request: POST https://kapxuliiifmyfljppsyp.supabase.co/rest/v1/books \"HTTP/1.1 201 Created\"\n",
      "2024-03-12 17:51:44,315:INFO - HTTP Request: POST https://kapxuliiifmyfljppsyp.supabase.co/rest/v1/books \"HTTP/1.1 201 Created\"\n",
      "2024-03-12 17:51:45,390:INFO - HTTP Request: POST https://kapxuliiifmyfljppsyp.supabase.co/rest/v1/books \"HTTP/1.1 201 Created\"\n",
      "2024-03-12 17:51:46,046:INFO - HTTP Request: POST https://kapxuliiifmyfljppsyp.supabase.co/rest/v1/books \"HTTP/1.1 201 Created\"\n",
      "2024-03-12 17:51:47,063:INFO - HTTP Request: POST https://kapxuliiifmyfljppsyp.supabase.co/rest/v1/books \"HTTP/1.1 201 Created\"\n",
      "2024-03-12 17:51:49,444:INFO - HTTP Request: POST https://kapxuliiifmyfljppsyp.supabase.co/rest/v1/books \"HTTP/1.1 201 Created\"\n",
      "2024-03-12 17:51:54,277:INFO - HTTP Request: POST https://kapxuliiifmyfljppsyp.supabase.co/rest/v1/books \"HTTP/1.1 201 Created\"\n",
      "2024-03-12 17:51:57,938:INFO - HTTP Request: POST https://kapxuliiifmyfljppsyp.supabase.co/rest/v1/books \"HTTP/1.1 201 Created\"\n",
      "2024-03-12 17:52:02,285:INFO - HTTP Request: POST https://kapxuliiifmyfljppsyp.supabase.co/rest/v1/books \"HTTP/1.1 201 Created\"\n",
      "2024-03-12 17:52:04,063:INFO - HTTP Request: POST https://kapxuliiifmyfljppsyp.supabase.co/rest/v1/books \"HTTP/1.1 201 Created\"\n",
      "2024-03-12 17:52:08,024:INFO - HTTP Request: POST https://kapxuliiifmyfljppsyp.supabase.co/rest/v1/books \"HTTP/1.1 201 Created\"\n",
      "2024-03-12 17:52:12,005:INFO - HTTP Request: POST https://kapxuliiifmyfljppsyp.supabase.co/rest/v1/books \"HTTP/1.1 201 Created\"\n",
      "2024-03-12 17:52:13,233:INFO - HTTP Request: POST https://kapxuliiifmyfljppsyp.supabase.co/rest/v1/books \"HTTP/1.1 201 Created\"\n",
      "2024-03-12 17:52:13,928:INFO - HTTP Request: POST https://kapxuliiifmyfljppsyp.supabase.co/rest/v1/books \"HTTP/1.1 201 Created\"\n",
      "2024-03-12 17:52:15,541:INFO - HTTP Request: POST https://kapxuliiifmyfljppsyp.supabase.co/rest/v1/books \"HTTP/1.1 201 Created\"\n",
      "2024-03-12 17:52:16,864:INFO - HTTP Request: POST https://kapxuliiifmyfljppsyp.supabase.co/rest/v1/books \"HTTP/1.1 201 Created\"\n",
      "2024-03-12 17:52:21,913:INFO - HTTP Request: POST https://kapxuliiifmyfljppsyp.supabase.co/rest/v1/books \"HTTP/1.1 201 Created\"\n"
     ]
    }
   ],
   "source": [
    "# Create supabase insert to add data from df to supabase\n",
    "# Table is called books (id, name, book_text)\n",
    "for index, row in df.iterrows():\n",
    "    supabase.table(\"books\").insert([{\n",
    "        \"name\": row[\"Readable_books\"],\n",
    "        \"book_text\": row[\"text\"]\n",
    "    }]).execute()"
   ]
  },
  {
   "cell_type": "code",
   "execution_count": 83,
   "metadata": {},
   "outputs": [
    {
     "name": "stderr",
     "output_type": "stream",
     "text": [
      "2024-03-12 18:06:04,723:INFO - HTTP Request: GET https://kapxuliiifmyfljppsyp.supabase.co/rest/v1/books?select=name%2C%20book_text \"HTTP/1.1 200 OK\"\n"
     ]
    }
   ],
   "source": [
    "# Select first row from books table\n",
    "response = supabase.table(\"books\")\\\n",
    "    .select(\"name, book_text\")\\\n",
    "    .execute()"
   ]
  },
  {
   "cell_type": "code",
   "execution_count": 91,
   "metadata": {},
   "outputs": [
    {
     "name": "stdout",
     "output_type": "stream",
     "text": [
      "6770\n",
      "6770\n"
     ]
    }
   ],
   "source": [
    "print(len(response.data[0].get(\"book_text\")))\n",
    "print(len(df[\"text\"].iloc[0]))"
   ]
  },
  {
   "cell_type": "code",
   "execution_count": null,
   "metadata": {},
   "outputs": [],
   "source": []
  }
 ],
 "metadata": {
  "kernelspec": {
   "display_name": "Python 3",
   "language": "python",
   "name": "python3"
  },
  "language_info": {
   "codemirror_mode": {
    "name": "ipython",
    "version": 3
   },
   "file_extension": ".py",
   "mimetype": "text/x-python",
   "name": "python",
   "nbconvert_exporter": "python",
   "pygments_lexer": "ipython3",
   "version": "3.12.1"
  }
 },
 "nbformat": 4,
 "nbformat_minor": 2
}
